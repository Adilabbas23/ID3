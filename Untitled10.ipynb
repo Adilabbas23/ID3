{
 "cells": [
  {
   "cell_type": "code",
   "execution_count": 1,
   "id": "a09a9b18-b5a0-4c2d-81b3-d024e65888b8",
   "metadata": {},
   "outputs": [
    {
     "name": "stdout",
     "output_type": "stream",
     "text": [
      "Enter the details for the new entry:\n"
     ]
    },
    {
     "name": "stdin",
     "output_type": "stream",
     "text": [
      "Height (in cm):  4.4\n",
      "Weight (in kg):  7.5\n",
      "Number of Legs:  4\n"
     ]
    },
    {
     "name": "stdout",
     "output_type": "stream",
     "text": [
      "The predicted type for the new entry is: bird\n",
      "\n",
      "Updated Dataset:\n",
      "Type: mammal, Height: 150 cm, Weight: 60 kg, Number of Legs: 4\n",
      "Type: mammal, Height: 100 cm, Weight: 40 kg, Number of Legs: 4\n",
      "Type: bird, Height: 30 cm, Weight: 5 kg, Number of Legs: 2\n",
      "Type: bird, Height: 25 cm, Weight: 3 kg, Number of Legs: 2\n",
      "Type: reptile, Height: 200 cm, Weight: 100 kg, Number of Legs: 0\n",
      "Type: reptile, Height: 50 cm, Weight: 20 kg, Number of Legs: 4\n",
      "Type: bird, Height: 4.4 cm, Weight: 7.5 kg, Number of Legs: 4.0\n"
     ]
    }
   ],
   "source": [
    "import numpy as np\n",
    "from sklearn.tree import DecisionTreeClassifier\n",
    "from sklearn.preprocessing import LabelEncoder\n",
    "data = [\n",
    "    [\"mammal\", 150, 60, 4],\n",
    "    [\"mammal\", 100, 40, 4],\n",
    "    [\"bird\", 30, 5, 2],\n",
    "    [\"bird\", 25, 3, 2],\n",
    "    [\"reptile\", 200, 100, 0],\n",
    "    [\"reptile\", 50, 20, 4],\n",
    "]\n",
    "data = np.array(data, dtype=object)\n",
    "label_encoder = LabelEncoder()\n",
    "data[:, 0] = label_encoder.fit_transform(data[:, 0])  # Encode the first column (Type)\n",
    "X = data[:, 1:].astype(float)  # Features: Height, Weight, Number of Legs\n",
    "y = data[:, 0].astype(int)     # Target: Type\n",
    "model = DecisionTreeClassifier()\n",
    "model.fit(X, y)\n",
    "print(\"Enter the details for the new entry:\")\n",
    "try:\n",
    "    height = float(input(\"Height (in cm): \"))\n",
    "    weight = float(input(\"Weight (in kg): \"))\n",
    "    legs = int(input(\"Number of Legs: \"))\n",
    "except ValueError:\n",
    "    print(\"Invalid input. Please enter numerical values.\")\n",
    "    exit()\n",
    "new_entry = np.array([[height, weight, legs]])\n",
    "prediction = model.predict(new_entry)\n",
    "predicted_type = label_encoder.inverse_transform(prediction)\n",
    "print(f\"The predicted type for the new entry is: {predicted_type[0]}\")\n",
    "new_entry_with_type = np.array([[prediction[0], height, weight, legs]])\n",
    "data = np.vstack((data, new_entry_with_type))\n",
    "X = data[:, 1:].astype(float)  # Features: Height, Weight, Number of Legs\n",
    "y = data[:, 0].astype(int)     # Target: Type\n",
    "model.fit(X, y)\n",
    "print(\"\\nUpdated Dataset:\")\n",
    "for row in data:\n",
    "    decoded_type = label_encoder.inverse_transform([int(row[0])])[0]\n",
    "    print(f\"Type: {decoded_type}, Height: {row[1]} cm, Weight: {row[2]} kg, Number of Legs: {row[3]}\")\n",
    " "
   ]
  },
  {
   "cell_type": "code",
   "execution_count": null,
   "id": "bf5ee06c-7c73-40d0-ad2d-cf010b75a673",
   "metadata": {},
   "outputs": [],
   "source": []
  }
 ],
 "metadata": {
  "kernelspec": {
   "display_name": "Python 3 (ipykernel)",
   "language": "python",
   "name": "python3"
  },
  "language_info": {
   "codemirror_mode": {
    "name": "ipython",
    "version": 3
   },
   "file_extension": ".py",
   "mimetype": "text/x-python",
   "name": "python",
   "nbconvert_exporter": "python",
   "pygments_lexer": "ipython3",
   "version": "3.12.4"
  }
 },
 "nbformat": 4,
 "nbformat_minor": 5
}
